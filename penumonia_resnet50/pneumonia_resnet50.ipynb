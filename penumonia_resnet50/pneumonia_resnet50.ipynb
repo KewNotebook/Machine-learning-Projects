{
  "nbformat": 4,
  "nbformat_minor": 0,
  "metadata": {
    "colab": {
      "provenance": [],
      "gpuType": "T4"
    },
    "kernelspec": {
      "name": "python3",
      "display_name": "Python 3"
    },
    "language_info": {
      "name": "python"
    },
    "accelerator": "GPU"
  },
  "cells": [
    {
      "cell_type": "code",
      "execution_count": 1,
      "metadata": {
        "colab": {
          "base_uri": "https://localhost:8080/"
        },
        "id": "TKiBKxPoKCXT",
        "outputId": "55f3c47c-66a2-4cf4-ab09-b6676a3c7305"
      },
      "outputs": [
        {
          "output_type": "stream",
          "name": "stdout",
          "text": [
            "Mounted at /content/drive\n"
          ]
        }
      ],
      "source": [
        "from google.colab import drive\n",
        "drive.mount('/content/drive')"
      ]
    },
    {
      "cell_type": "code",
      "source": [
        "import os\n",
        "from keras.preprocessing.image import ImageDataGenerator\n",
        "from keras.models import Model\n",
        "from keras.layers import Dense, Flatten\n",
        "from keras.optimizers import Adam\n",
        "from keras.applications import ResNet50"
      ],
      "metadata": {
        "id": "MPV-_Tx1KE3d"
      },
      "execution_count": 2,
      "outputs": []
    },
    {
      "cell_type": "code",
      "source": [
        "train_data = ImageDataGenerator()\n",
        "test_data = ImageDataGenerator()"
      ],
      "metadata": {
        "id": "Y-x09DpMKE9z"
      },
      "execution_count": 3,
      "outputs": []
    },
    {
      "cell_type": "code",
      "source": [
        "img_size=(224,224)\n",
        "batch_size = 32"
      ],
      "metadata": {
        "id": "djpnEjmxKa5C"
      },
      "execution_count": 4,
      "outputs": []
    },
    {
      "cell_type": "code",
      "source": [
        "res=ResNet50(weights='imagenet',include_top='False',input_shape=(224,224,3))\n"
      ],
      "metadata": {
        "colab": {
          "base_uri": "https://localhost:8080/"
        },
        "id": "VF8SXRO7Ketm",
        "outputId": "32dc0320-af3f-41f9-a955-21fc3bb8c562"
      },
      "execution_count": 5,
      "outputs": [
        {
          "output_type": "stream",
          "name": "stdout",
          "text": [
            "Downloading data from https://storage.googleapis.com/tensorflow/keras-applications/resnet/resnet50_weights_tf_dim_ordering_tf_kernels.h5\n",
            "102967424/102967424 [==============================] - 4s 0us/step\n"
          ]
        }
      ]
    },
    {
      "cell_type": "code",
      "source": [
        "for layer in res.layers:\n",
        "  layer.trainable=False"
      ],
      "metadata": {
        "id": "4oLoFxsiKwT_"
      },
      "execution_count": 6,
      "outputs": []
    },
    {
      "cell_type": "code",
      "source": [
        "x = Flatten()(res.output)\n",
        "x = Dense(128, activation='relu')(x)\n",
        "predictions = Dense(1, activation='sigmoid')(x)"
      ],
      "metadata": {
        "id": "BtBU9JuoK2LP"
      },
      "execution_count": 7,
      "outputs": []
    },
    {
      "cell_type": "code",
      "source": [
        "sr_train_dir = '/content/drive/MyDrive/chest_xray/train'\n",
        "sr_val_dir='/content/drive/MyDrive/chest_xray/val'\n",
        "sr_test_dir='/content/drive/MyDrive/chest_xray/test'"
      ],
      "metadata": {
        "id": "t5TtYfF0K2XA"
      },
      "execution_count": 8,
      "outputs": []
    },
    {
      "cell_type": "code",
      "source": [
        "sr_train_generator = train_data.flow_from_directory(\n",
        "    sr_train_dir,\n",
        "    target_size=img_size,\n",
        "    batch_size=batch_size,\n",
        "    class_mode='binary',\n",
        "    classes=['NORMAL', 'PNEUMONIA']\n",
        ")"
      ],
      "metadata": {
        "colab": {
          "base_uri": "https://localhost:8080/"
        },
        "id": "ztNR1CUMK72X",
        "outputId": "640705f5-0c29-4d75-d664-e8811702892d"
      },
      "execution_count": 9,
      "outputs": [
        {
          "output_type": "stream",
          "name": "stdout",
          "text": [
            "Found 5216 images belonging to 2 classes.\n"
          ]
        }
      ]
    },
    {
      "cell_type": "code",
      "source": [
        "sr_test_generator = test_data.flow_from_directory(\n",
        "    sr_test_dir,\n",
        "    target_size=img_size,\n",
        "    batch_size=batch_size,\n",
        "    class_mode='binary',\n",
        "    classes=['NORMAL','PNEUMONIA'],\n",
        "    shuffle=False\n",
        ")"
      ],
      "metadata": {
        "colab": {
          "base_uri": "https://localhost:8080/"
        },
        "id": "9TFLY7tiK_tU",
        "outputId": "f718b8e4-ef0a-4ccc-dc63-bc532c2b7c3e"
      },
      "execution_count": 10,
      "outputs": [
        {
          "output_type": "stream",
          "name": "stdout",
          "text": [
            "Found 624 images belonging to 2 classes.\n"
          ]
        }
      ]
    },
    {
      "cell_type": "code",
      "source": [
        "sr_val_generator = test_data.flow_from_directory(\n",
        "    sr_val_dir,\n",
        "    target_size=img_size,\n",
        "    batch_size=batch_size,\n",
        "    class_mode='binary',\n",
        "    classes=['NORMAL', 'PNEUMONIA']\n",
        ")"
      ],
      "metadata": {
        "colab": {
          "base_uri": "https://localhost:8080/"
        },
        "id": "BDWSeiTqLCA3",
        "outputId": "02330fcb-e109-49f0-da5a-8d0870629ee2"
      },
      "execution_count": 11,
      "outputs": [
        {
          "output_type": "stream",
          "name": "stdout",
          "text": [
            "Found 16 images belonging to 2 classes.\n"
          ]
        }
      ]
    },
    {
      "cell_type": "code",
      "source": [
        "model_sr = Model(inputs=res.input, outputs=predictions)\n"
      ],
      "metadata": {
        "id": "pF-TQRf0LD_w"
      },
      "execution_count": 12,
      "outputs": []
    },
    {
      "cell_type": "code",
      "source": [
        "model_sr.compile(optimizer=Adam(), loss='binary_crossentropy', metrics=['accuracy'])\n"
      ],
      "metadata": {
        "id": "NirdBB9DLIho"
      },
      "execution_count": 13,
      "outputs": []
    },
    {
      "cell_type": "code",
      "source": [
        "history_sr = model_sr.fit(sr_train_generator, validation_data=sr_val_generator, epochs=10)\n"
      ],
      "metadata": {
        "colab": {
          "base_uri": "https://localhost:8080/"
        },
        "id": "1DRhlsUNLKUo",
        "outputId": "56d66625-8306-4eda-87ee-6cdee3f4c906"
      },
      "execution_count": 14,
      "outputs": [
        {
          "output_type": "stream",
          "name": "stdout",
          "text": [
            "Epoch 1/10\n",
            "163/163 [==============================] - 1144s 6s/step - loss: 0.4743 - accuracy: 0.7799 - val_loss: 0.6215 - val_accuracy: 0.4375\n",
            "Epoch 2/10\n",
            "163/163 [==============================] - 73s 444ms/step - loss: 0.3028 - accuracy: 0.8758 - val_loss: 0.5467 - val_accuracy: 0.5000\n",
            "Epoch 3/10\n",
            "163/163 [==============================] - 72s 439ms/step - loss: 0.2652 - accuracy: 0.8873 - val_loss: 0.5447 - val_accuracy: 0.6875\n",
            "Epoch 4/10\n",
            "163/163 [==============================] - 79s 482ms/step - loss: 0.2466 - accuracy: 0.8949 - val_loss: 0.5424 - val_accuracy: 0.6875\n",
            "Epoch 5/10\n",
            "163/163 [==============================] - 79s 481ms/step - loss: 0.2325 - accuracy: 0.8984 - val_loss: 0.5589 - val_accuracy: 0.6875\n",
            "Epoch 6/10\n",
            "163/163 [==============================] - 73s 446ms/step - loss: 0.2227 - accuracy: 0.9018 - val_loss: 0.6874 - val_accuracy: 0.6875\n",
            "Epoch 7/10\n",
            "163/163 [==============================] - 70s 430ms/step - loss: 0.2146 - accuracy: 0.9070 - val_loss: 0.6868 - val_accuracy: 0.6875\n",
            "Epoch 8/10\n",
            "163/163 [==============================] - 72s 440ms/step - loss: 0.2083 - accuracy: 0.9110 - val_loss: 0.7058 - val_accuracy: 0.6875\n",
            "Epoch 9/10\n",
            "163/163 [==============================] - 70s 429ms/step - loss: 0.2029 - accuracy: 0.9124 - val_loss: 0.7035 - val_accuracy: 0.6250\n",
            "Epoch 10/10\n",
            "163/163 [==============================] - 69s 423ms/step - loss: 0.1991 - accuracy: 0.9132 - val_loss: 0.7861 - val_accuracy: 0.6875\n"
          ]
        }
      ]
    },
    {
      "cell_type": "code",
      "source": [
        "test_loss_1, test_acc_1 = model_sr.evaluate(sr_test_generator)\n",
        "print(\"Test Accuracy:\", test_acc_1)"
      ],
      "metadata": {
        "colab": {
          "base_uri": "https://localhost:8080/"
        },
        "id": "Y8xlw0eARNgg",
        "outputId": "a36eb140-a326-4530-8e8b-d99945d5cfae"
      },
      "execution_count": 18,
      "outputs": [
        {
          "output_type": "stream",
          "name": "stdout",
          "text": [
            "20/20 [==============================] - 7s 337ms/step - loss: 0.5463 - accuracy: 0.7628\n",
            "Test Accuracy: 0.7628205418586731\n"
          ]
        }
      ]
    },
    {
      "cell_type": "code",
      "source": [
        "model_sr.save(\"resnet_pneumonia_model.h5\")"
      ],
      "metadata": {
        "colab": {
          "base_uri": "https://localhost:8080/"
        },
        "id": "uU2KsA4BLMo1",
        "outputId": "6e6fb387-fb15-4d54-f182-03684c96f4d2"
      },
      "execution_count": 15,
      "outputs": [
        {
          "output_type": "stream",
          "name": "stderr",
          "text": [
            "/usr/local/lib/python3.10/dist-packages/keras/src/engine/training.py:3103: UserWarning: You are saving your model as an HDF5 file via `model.save()`. This file format is considered legacy. We recommend using instead the native Keras format, e.g. `model.save('my_model.keras')`.\n",
            "  saving_api.save_model(\n"
          ]
        }
      ]
    }
  ]
}